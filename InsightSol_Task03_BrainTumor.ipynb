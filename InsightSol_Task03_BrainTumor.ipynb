{
  "nbformat": 4,
  "nbformat_minor": 0,
  "metadata": {
    "colab": {
      "provenance": [],
      "mount_file_id": "1IZj_MruOU7qZa_-HIWtLBgHo4WSE9Or5",
      "authorship_tag": "ABX9TyOq5NjOnB4YrYXi8arztHhU"
    },
    "kernelspec": {
      "name": "python3",
      "display_name": "Python 3"
    },
    "language_info": {
      "name": "python"
    }
  },
  "cells": [
    {
      "cell_type": "markdown",
      "source": [
        "##Importing the Required libraries:"
      ],
      "metadata": {
        "id": "phpor-Gbw796"
      }
    },
    {
      "cell_type": "code",
      "source": [
        "# Import required libraries\n",
        "import os\n",
        "import cv2 as cv\n",
        "import numpy as np\n",
        "import tensorflow as tf\n",
        "from tensorflow import keras"
      ],
      "metadata": {
        "id": "ujSobWRwxzwO"
      },
      "execution_count": 1,
      "outputs": []
    },
    {
      "cell_type": "markdown",
      "source": [
        "#Load The Data Set"
      ],
      "metadata": {
        "id": "v6CzkpfyiZqS"
      }
    },
    {
      "cell_type": "code",
      "source": [
        "# Import dataset\n",
        "DIR = r'/content/drive/MyDrive/brain_tumor_dataset'\n",
        "CATEGORY = ['yes', 'no']"
      ],
      "metadata": {
        "id": "13ggrxNshgTf"
      },
      "execution_count": 2,
      "outputs": []
    },
    {
      "cell_type": "markdown",
      "source": [
        "#Labelling the Images"
      ],
      "metadata": {
        "id": "tjBFbbxmie6y"
      }
    },
    {
      "cell_type": "code",
      "source": [
        "# Labeling of the data i.e. yes or no\n",
        "IMG_SIZE = 28\n",
        "data = []\n",
        "for category in CATEGORY:\n",
        " folder = os.path.join(DIR, category)\n",
        " label = CATEGORY.index(category)\n",
        " for img in os.listdir(folder):\n",
        "      img_path = os.path.join(folder, img)\n",
        "      img_arr = cv.imread(img_path)\n",
        "      img_arr = cv.resize(img_arr, (IMG_SIZE, IMG_SIZE))\n",
        "      data.append([img_arr, label])"
      ],
      "metadata": {
        "id": "dhi8NK-phyvP"
      },
      "execution_count": 4,
      "outputs": []
    },
    {
      "cell_type": "code",
      "source": [
        "# Check length data\n",
        "print(len(data))"
      ],
      "metadata": {
        "colab": {
          "base_uri": "https://localhost:8080/"
        },
        "id": "TlbmDkuwiW-k",
        "outputId": "8aa689bc-efb5-4045-b6e5-ecbd968d09b3"
      },
      "execution_count": 5,
      "outputs": [
        {
          "output_type": "stream",
          "name": "stdout",
          "text": [
            "253\n"
          ]
        }
      ]
    },
    {
      "cell_type": "markdown",
      "source": [
        "#Creating X and y for features and labels"
      ],
      "metadata": {
        "id": "3Qg212hyizkj"
      }
    },
    {
      "cell_type": "code",
      "source": [
        "X = []\n",
        "y = []\n",
        "for features, label in data:\n",
        "  X.append(features)\n",
        "  y.append(label)"
      ],
      "metadata": {
        "id": "6_Ed-iyRi3Rj"
      },
      "execution_count": 6,
      "outputs": []
    },
    {
      "cell_type": "code",
      "source": [
        "# Convert X and y into array\n",
        "X = np.array(X)\n",
        "y = np.array(y)"
      ],
      "metadata": {
        "id": "cyQreKmUjEjz"
      },
      "execution_count": 7,
      "outputs": []
    },
    {
      "cell_type": "markdown",
      "source": [
        "##Feature scaling technique"
      ],
      "metadata": {
        "id": "fG5qSPXSjUQU"
      }
    },
    {
      "cell_type": "code",
      "source": [
        "X = X / 255"
      ],
      "metadata": {
        "id": "t4aziEFGjR9Z"
      },
      "execution_count": 12,
      "outputs": []
    },
    {
      "cell_type": "code",
      "source": [
        "print(X.shape)"
      ],
      "metadata": {
        "colab": {
          "base_uri": "https://localhost:8080/"
        },
        "id": "P__TDWJojaZe",
        "outputId": "c7a5d5ed-c230-4047-9967-dd9f79bfb9bd"
      },
      "execution_count": 13,
      "outputs": [
        {
          "output_type": "stream",
          "name": "stdout",
          "text": [
            "(253, 28, 28, 3)\n"
          ]
        }
      ]
    },
    {
      "cell_type": "markdown",
      "source": [
        "# CNN Model\n"
      ],
      "metadata": {
        "id": "IoI-vHhqj2NT"
      }
    },
    {
      "cell_type": "code",
      "source": [
        "def modelCNN():\n",
        " model = keras.Sequential([\n",
        "                           # Input layer\n",
        "                           keras.layers.Input(shape=(28, 28, 3)),\n",
        "                           # Convolutional layer 1\n",
        "                           keras.layers.Conv2D(64, (3, 3), activation='relu'),\n",
        "                           keras.layers.MaxPooling2D(2, 2),\n",
        "                           # Convolutional layer 2\n",
        "                           keras.layers.Conv2D(64, (3, 3), activation='relu'),\n",
        "                           keras.layers.MaxPooling2D(2, 2),\n",
        "\n",
        "                           # Flatten layer - Output of convolution\n",
        "                           keras.layers.Flatten(),\n",
        "\n",
        "                           # Hidden layer 1\n",
        "                           keras.layers.Dense(128, activation='relu'),\n",
        "\n",
        "                           # Output layer\n",
        "                           keras.layers.Dense(2, activation='softmax')],\n",
        "                           name=\"CNN-CATDOG\")\n",
        " model.compile(optimizer='adam', loss='sparse_categorical_crossentropy', metrics=['accuracy'])\n",
        " return model\n",
        "\n"
      ],
      "metadata": {
        "id": "-j4hwRlTj3rN"
      },
      "execution_count": 16,
      "outputs": []
    },
    {
      "cell_type": "code",
      "source": [
        "model = modelCNN()\n",
        "model.summary()"
      ],
      "metadata": {
        "colab": {
          "base_uri": "https://localhost:8080/"
        },
        "id": "pMfJ4vRdlQap",
        "outputId": "29caade9-a724-46c3-8ef2-0a60e64d8aee"
      },
      "execution_count": 29,
      "outputs": [
        {
          "output_type": "stream",
          "name": "stdout",
          "text": [
            "Model: \"CNN-CATDOG\"\n",
            "_________________________________________________________________\n",
            " Layer (type)                Output Shape              Param #   \n",
            "=================================================================\n",
            " conv2d_10 (Conv2D)          (None, 26, 26, 64)        1792      \n",
            "                                                                 \n",
            " max_pooling2d_10 (MaxPooli  (None, 13, 13, 64)        0         \n",
            " ng2D)                                                           \n",
            "                                                                 \n",
            " conv2d_11 (Conv2D)          (None, 11, 11, 64)        36928     \n",
            "                                                                 \n",
            " max_pooling2d_11 (MaxPooli  (None, 5, 5, 64)          0         \n",
            " ng2D)                                                           \n",
            "                                                                 \n",
            " flatten_5 (Flatten)         (None, 1600)              0         \n",
            "                                                                 \n",
            " dense_10 (Dense)            (None, 128)               204928    \n",
            "                                                                 \n",
            " dense_11 (Dense)            (None, 2)                 258       \n",
            "                                                                 \n",
            "=================================================================\n",
            "Total params: 243906 (952.76 KB)\n",
            "Trainable params: 243906 (952.76 KB)\n",
            "Non-trainable params: 0 (0.00 Byte)\n",
            "_________________________________________________________________\n"
          ]
        }
      ]
    },
    {
      "cell_type": "code",
      "source": [
        "history = model.fit(X, y, epochs=20, shuffle=True)"
      ],
      "metadata": {
        "colab": {
          "base_uri": "https://localhost:8080/"
        },
        "id": "PAYZ4aWBl0Ck",
        "outputId": "671b36c7-3c1a-4a91-82d6-0171ba867e7f"
      },
      "execution_count": 30,
      "outputs": [
        {
          "output_type": "stream",
          "name": "stdout",
          "text": [
            "Epoch 1/20\n",
            "8/8 [==============================] - 1s 44ms/step - loss: 0.6311 - accuracy: 0.6522\n",
            "Epoch 2/20\n",
            "8/8 [==============================] - 0s 45ms/step - loss: 0.5263 - accuracy: 0.7549\n",
            "Epoch 3/20\n",
            "8/8 [==============================] - 0s 43ms/step - loss: 0.4724 - accuracy: 0.7905\n",
            "Epoch 4/20\n",
            "8/8 [==============================] - 0s 43ms/step - loss: 0.4560 - accuracy: 0.7945\n",
            "Epoch 5/20\n",
            "8/8 [==============================] - 0s 47ms/step - loss: 0.5025 - accuracy: 0.7194\n",
            "Epoch 6/20\n",
            "8/8 [==============================] - 0s 42ms/step - loss: 0.4124 - accuracy: 0.8458\n",
            "Epoch 7/20\n",
            "8/8 [==============================] - 0s 44ms/step - loss: 0.3752 - accuracy: 0.8419\n",
            "Epoch 8/20\n",
            "8/8 [==============================] - 0s 46ms/step - loss: 0.3344 - accuracy: 0.8617\n",
            "Epoch 9/20\n",
            "8/8 [==============================] - 0s 43ms/step - loss: 0.3257 - accuracy: 0.8735\n",
            "Epoch 10/20\n",
            "8/8 [==============================] - 0s 43ms/step - loss: 0.2614 - accuracy: 0.9012\n",
            "Epoch 11/20\n",
            "8/8 [==============================] - 0s 54ms/step - loss: 0.2242 - accuracy: 0.9328\n",
            "Epoch 12/20\n",
            "8/8 [==============================] - 1s 75ms/step - loss: 0.1857 - accuracy: 0.9407\n",
            "Epoch 13/20\n",
            "8/8 [==============================] - 1s 78ms/step - loss: 0.1526 - accuracy: 0.9447\n",
            "Epoch 14/20\n",
            "8/8 [==============================] - 1s 74ms/step - loss: 0.1171 - accuracy: 0.9723\n",
            "Epoch 15/20\n",
            "8/8 [==============================] - 1s 74ms/step - loss: 0.1497 - accuracy: 0.9486\n",
            "Epoch 16/20\n",
            "8/8 [==============================] - 1s 74ms/step - loss: 0.0982 - accuracy: 0.9684\n",
            "Epoch 17/20\n",
            "8/8 [==============================] - 1s 73ms/step - loss: 0.0696 - accuracy: 0.9921\n",
            "Epoch 18/20\n",
            "8/8 [==============================] - 1s 75ms/step - loss: 0.0462 - accuracy: 0.9960\n",
            "Epoch 19/20\n",
            "8/8 [==============================] - 0s 58ms/step - loss: 0.0340 - accuracy: 0.9960\n",
            "Epoch 20/20\n",
            "8/8 [==============================] - 0s 45ms/step - loss: 0.0293 - accuracy: 1.0000\n"
          ]
        }
      ]
    },
    {
      "cell_type": "code",
      "source": [
        "loss, acc = model.evaluate(X, y)\n",
        "print(\"Loss : \" + str(loss*100))\n",
        "print(\"Accuracy : \" + str(acc*100))\n"
      ],
      "metadata": {
        "colab": {
          "base_uri": "https://localhost:8080/"
        },
        "id": "-cE4Ed-HpVIr",
        "outputId": "19c78641-e46d-4137-8822-239ac76b0415"
      },
      "execution_count": 31,
      "outputs": [
        {
          "output_type": "stream",
          "name": "stdout",
          "text": [
            "8/8 [==============================] - 0s 13ms/step - loss: 0.0261 - accuracy: 1.0000\n",
            "Loss : 2.6070300489664078\n",
            "Accuracy : 100.0\n"
          ]
        }
      ]
    },
    {
      "cell_type": "markdown",
      "source": [
        "##As a Result On the Basis of Accuracy Model is performing Very Good"
      ],
      "metadata": {
        "id": "o204NDhk1ZwE"
      }
    }
  ]
}